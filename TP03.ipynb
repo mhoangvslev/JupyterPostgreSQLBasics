{
 "cells": [
  {
   "cell_type": "code",
   "execution_count": 1,
   "metadata": {},
   "outputs": [],
   "source": [
    "-- connection: host='localhost' dbname='TP03' user='postgres' password='postgres'"
   ]
  },
  {
   "cell_type": "markdown",
   "metadata": {},
   "source": [
    "# Ecrire une fonction qui prend deux chaînes et retourne la longueur de la plus longue."
   ]
  },
  {
   "cell_type": "code",
   "execution_count": 2,
   "metadata": {},
   "outputs": [
    {
     "name": "stdout",
     "output_type": "stream",
     "text": [
      "1 row(s) returned.\n"
     ]
    },
    {
     "data": {
      "text/html": [
       "<table>\n",
       "<tr><th>longer_string  </th></tr>\n",
       "<tr><td>court          </td></tr>\n",
       "</table>"
      ],
      "text/latex": [
       "\\begin{tabular}{l}\n",
       "\\toprule\n",
       " longer\\_string   \\\\\n",
       "\\midrule\n",
       " court           \\\\\n",
       "\\bottomrule\n",
       "\\end{tabular}"
      ],
      "text/plain": [
       "longer_string\n",
       "---------------\n",
       "court"
      ]
     },
     "metadata": {},
     "output_type": "display_data"
    }
   ],
   "source": [
    "CREATE OR REPLACE FUNCTION longer_string(text, text)\n",
    "RETURNS text AS $$\n",
    "    BEGIN\n",
    "        IF char_length($1) > char_length($2) THEN\n",
    "            RETURN $1;\n",
    "        ELSE\n",
    "            RETURN $2;\n",
    "        END IF;\n",
    "    END;\n",
    "$$ LANGUAGE plpgsql;\n",
    "\n",
    "SELECT * FROM longer_string('court', 'long');"
   ]
  },
  {
   "cell_type": "markdown",
   "metadata": {},
   "source": [
    "# Ecrire une fonction qui prend un texte et affiche (notice) tous les mots un par un."
   ]
  },
  {
   "cell_type": "code",
   "execution_count": 3,
   "metadata": {},
   "outputs": [
    {
     "name": "stdout",
     "output_type": "stream",
     "text": [
      "1 row(s) returned.\n",
      "NOTICE:  Mot 1: Dies\n",
      "NOTICE:  Mot 2: irae,\n",
      "NOTICE:  Mot 3: dies\n",
      "NOTICE:  Mot 4: illa!\n",
      "NOTICE:  Mot 5: Solvet\n",
      "NOTICE:  Mot 6: saeclum\n",
      "NOTICE:  Mot 7: in\n",
      "NOTICE:  Mot 8: favilla,\n",
      "NOTICE:  Mot 9: teste\n",
      "NOTICE:  Mot 10: David\n",
      "NOTICE:  Mot 11: cum\n",
      "NOTICE:  Mot 12: Sybilla!\n",
      "NOTICE:  Mot 13: \n"
     ]
    },
    {
     "data": {
      "text/html": [
       "<table>\n",
       "<tr><th>afficher_mots  </th></tr>\n",
       "<tr><td>               </td></tr>\n",
       "</table>"
      ],
      "text/latex": [
       "\\begin{tabular}{l}\n",
       "\\toprule\n",
       " afficher\\_mots   \\\\\n",
       "\\midrule\n",
       "                 \\\\\n",
       "\\bottomrule\n",
       "\\end{tabular}"
      ],
      "text/plain": [
       "afficher_mots\n",
       "---------------\n"
      ]
     },
     "metadata": {},
     "output_type": "display_data"
    }
   ],
   "source": [
    "CREATE OR REPLACE FUNCTION afficher_mots(text)\n",
    "RETURNS void AS $$\n",
    "    DECLARE \n",
    "        iter INTEGER := 1;\n",
    "        mot TEXT := '';\n",
    "    BEGIN\n",
    "        LOOP\n",
    "            mot := split_part($1, ' ', iter);\n",
    "            RAISE NOTICE 'Mot %: %', iter, mot;\n",
    "            iter := iter + 1;\n",
    "            EXIT WHEN mot = '';\n",
    "        END LOOP;\n",
    "    END;\n",
    "$$ LANGUAGE plpgsql;\n",
    "\n",
    "SELECT * FROM afficher_mots('Dies irae, dies illa! Solvet saeclum in favilla, teste David cum Sybilla!')"
   ]
  },
  {
   "cell_type": "markdown",
   "metadata": {},
   "source": [
    "# Ecrire une version itérative de la fonction factorielle."
   ]
  },
  {
   "cell_type": "code",
   "execution_count": 4,
   "metadata": {},
   "outputs": [
    {
     "name": "stdout",
     "output_type": "stream",
     "text": [
      "1 row(s) returned.\n"
     ]
    },
    {
     "data": {
      "text/html": [
       "<table>\n",
       "<tr><th style=\"text-align: right;\">  factoriel</th></tr>\n",
       "<tr><td style=\"text-align: right;\">          6</td></tr>\n",
       "</table>"
      ],
      "text/latex": [
       "\\begin{tabular}{r}\n",
       "\\toprule\n",
       "   factoriel \\\\\n",
       "\\midrule\n",
       "           6 \\\\\n",
       "\\bottomrule\n",
       "\\end{tabular}"
      ],
      "text/plain": [
       "  factoriel\n",
       "-----------\n",
       "          6"
      ]
     },
     "metadata": {},
     "output_type": "display_data"
    }
   ],
   "source": [
    "CREATE OR REPLACE FUNCTION factoriel(integer)\n",
    "RETURNS integer AS $$\n",
    "    DECLARE\n",
    "        res integer := 1;\n",
    "        iter integer := 1;\n",
    "    BEGIN\n",
    "        LOOP\n",
    "            res := res * iter;\n",
    "            iter := iter + 1;\n",
    "            EXIT WHEN iter > $1;\n",
    "        END LOOP;\n",
    "        RETURN res;\n",
    "    END;\n",
    "\n",
    "$$ LANGUAGE plpgsql;\n",
    "\n",
    "select * from factoriel(3);"
   ]
  },
  {
   "cell_type": "markdown",
   "metadata": {},
   "source": [
    "# Calculer les deux valeurs suivantes :\n",
    "## Somme des durées de tous les films en écrivant une requête SQL puis une fonction parcourant tous les enregistrements un par un (for in). Assurez-vous que les deux méthodes retournent le même résultat.\n",
    "- Requête SQL:"
   ]
  },
  {
   "cell_type": "code",
   "execution_count": 5,
   "metadata": {},
   "outputs": [
    {
     "name": "stdout",
     "output_type": "stream",
     "text": [
      "1 row(s) returned.\n"
     ]
    },
    {
     "data": {
      "text/html": [
       "<table>\n",
       "<tr><th style=\"text-align: right;\">  sum</th></tr>\n",
       "<tr><td style=\"text-align: right;\">10468</td></tr>\n",
       "</table>"
      ],
      "text/latex": [
       "\\begin{tabular}{r}\n",
       "\\toprule\n",
       "   sum \\\\\n",
       "\\midrule\n",
       " 10468 \\\\\n",
       "\\bottomrule\n",
       "\\end{tabular}"
      ],
      "text/plain": [
       "  sum\n",
       "-----\n",
       "10468"
      ]
     },
     "metadata": {},
     "output_type": "display_data"
    }
   ],
   "source": [
    "SELECT SUM(duree) FROM films;"
   ]
  },
  {
   "cell_type": "markdown",
   "metadata": {},
   "source": [
    "- Fonction SQL:"
   ]
  },
  {
   "cell_type": "code",
   "execution_count": 6,
   "metadata": {
    "scrolled": true
   },
   "outputs": [
    {
     "name": "stdout",
     "output_type": "stream",
     "text": [
      "1 row(s) returned.\n"
     ]
    },
    {
     "data": {
      "text/html": [
       "<table>\n",
       "<tr><th style=\"text-align: right;\">  sum_duree_films</th></tr>\n",
       "<tr><td style=\"text-align: right;\">            10468</td></tr>\n",
       "</table>"
      ],
      "text/latex": [
       "\\begin{tabular}{r}\n",
       "\\toprule\n",
       "   sum\\_duree\\_films \\\\\n",
       "\\midrule\n",
       "             10468 \\\\\n",
       "\\bottomrule\n",
       "\\end{tabular}"
      ],
      "text/plain": [
       "  sum_duree_films\n",
       "-----------------\n",
       "            10468"
      ]
     },
     "metadata": {},
     "output_type": "display_data"
    }
   ],
   "source": [
    "CREATE OR REPLACE FUNCTION sum_duree_films() \n",
    "RETURNS integer AS $$\n",
    "    DECLARE\n",
    "        total_length integer := 0;\n",
    "        unit_record RECORD;\n",
    "    BEGIN\n",
    "        FOR unit_record IN SELECT duree FROM films LOOP\n",
    "            total_length := total_length + unit_record.duree;\n",
    "        END LOOP;\n",
    "        RETURN total_length;\n",
    "    END;\n",
    "$$ LANGUAGE plpgsql;\n",
    "\n",
    "SELECT * FROM sum_duree_films();"
   ]
  },
  {
   "cell_type": "markdown",
   "metadata": {},
   "source": [
    "## Prix moyen d’achat des films en écrivant une requête SQL puis une fonction parcourant les enregistrements avec un curseur. La fonction devra lever une exception s’il n’y a aucun élément dans la table. Assurez-vous que les deux méthodes retournent le même résultat et testez l’exception en vidant la table (TRUNCATE TABLE)."
   ]
  },
  {
   "cell_type": "markdown",
   "metadata": {},
   "source": [
    "+ Requête SQL:"
   ]
  },
  {
   "cell_type": "code",
   "execution_count": 7,
   "metadata": {},
   "outputs": [
    {
     "name": "stdout",
     "output_type": "stream",
     "text": [
      "1 row(s) returned.\n"
     ]
    },
    {
     "data": {
      "text/html": [
       "<table>\n",
       "<tr><th style=\"text-align: right;\">    avg</th></tr>\n",
       "<tr><td style=\"text-align: right;\">13.9561</td></tr>\n",
       "</table>"
      ],
      "text/latex": [
       "\\begin{tabular}{r}\n",
       "\\toprule\n",
       "     avg \\\\\n",
       "\\midrule\n",
       " 13.9561 \\\\\n",
       "\\bottomrule\n",
       "\\end{tabular}"
      ],
      "text/plain": [
       "    avg\n",
       "-------\n",
       "13.9561"
      ]
     },
     "metadata": {},
     "output_type": "display_data"
    }
   ],
   "source": [
    "SELECT AVG(prixachat) FROM dvds"
   ]
  },
  {
   "cell_type": "markdown",
   "metadata": {},
   "source": [
    "+ Function SQL:"
   ]
  },
  {
   "cell_type": "code",
   "execution_count": 8,
   "metadata": {},
   "outputs": [
    {
     "name": "stdout",
     "output_type": "stream",
     "text": [
      "1 row(s) returned.\n"
     ]
    },
    {
     "data": {
      "text/html": [
       "<table>\n",
       "<tr><th style=\"text-align: right;\">  avg_prix_achat</th></tr>\n",
       "<tr><td style=\"text-align: right;\">         13.9561</td></tr>\n",
       "</table>"
      ],
      "text/latex": [
       "\\begin{tabular}{r}\n",
       "\\toprule\n",
       "   avg\\_prix\\_achat \\\\\n",
       "\\midrule\n",
       "          13.9561 \\\\\n",
       "\\bottomrule\n",
       "\\end{tabular}"
      ],
      "text/plain": [
       "  avg_prix_achat\n",
       "----------------\n",
       "         13.9561"
      ]
     },
     "metadata": {},
     "output_type": "display_data"
    }
   ],
   "source": [
    "CREATE OR REPLACE FUNCTION avg_prix_achat() \n",
    "RETURNS float AS $$\n",
    "    DECLARE\n",
    "        total integer;\n",
    "        unit_record RECORD;\n",
    "        total_prix float := 0;\n",
    "    BEGIN\n",
    "        SELECT COUNT(nodvd) FROM dvds INTO total;\n",
    "        IF total = 0 THEN\n",
    "            RAISE EXCEPTION 'Table dvds est vide!' \n",
    "            USING HINT = 'Charger les données!';\n",
    "        END IF;\n",
    "        \n",
    "        FOR unit_record IN SELECT prixachat FROM dvds LOOP\n",
    "            total_prix := total_prix + unit_record.prixachat;\n",
    "        END LOOP;\n",
    "        RETURN total_prix/total;\n",
    "    END;\n",
    "$$ LANGUAGE plpgsql;\n",
    "\n",
    "SELECT * FROM avg_prix_achat();"
   ]
  },
  {
   "cell_type": "markdown",
   "metadata": {},
   "source": [
    "# Les numéros de dvds sont complètement chamboulés. Ecrire une fonction pour le renuméroter de 1 à n de manière consécutive. Faites ce qu’il faut pour que ne pas avoir de problèmes avec les clés étrangères."
   ]
  },
  {
   "cell_type": "code",
   "execution_count": 9,
   "metadata": {},
   "outputs": [
    {
     "name": "stderr",
     "output_type": "stream",
     "text": [
      "duplicate key value violates unique constraint \"locations_pkey\"\n",
      "DETAIL:  Key (nodvd, datelocation)=(6, 2015-03-21) already exists.\n",
      "CONTEXT:  SQL statement \"UPDATE locations SET nodvd = iter WHERE nodvd = current_nodvd\"\n",
      "PL/pgSQL function corriger_nodvd() line 18 at SQL statement\n"
     ]
    }
   ],
   "source": [
    "CREATE OR REPLACE FUNCTION corriger_nodvd()\n",
    "RETURNS void AS $$\n",
    "    DECLARE\n",
    "        unit_record RECORD;\n",
    "        iter integer := 1;\n",
    "        current_nodvd integer;\n",
    "    BEGIN\n",
    "        ALTER TABLE locations DROP CONSTRAINT IF EXISTS locations_nodvd_fkey;\n",
    "        ALTER TABLE dvds DROP CONSTRAINT IF EXISTS dvds_pkey;\n",
    "\n",
    "        FOR unit_record IN SELECT nodvd FROM dvds LOOP\n",
    "            current_nodvd := unit_record.nodvd;\n",
    "            \n",
    "            IF iter IN (SELECT nodvd FROM dvds) THEN\n",
    "                iter := iter + 1;\n",
    "            END IF;\n",
    "            \n",
    "            UPDATE dvds SET nodvd = iter WHERE nodvd = current_nodvd; \n",
    "            UPDATE locations SET nodvd = iter WHERE nodvd = current_nodvd;\n",
    "            \n",
    "            iter := iter + 1;\n",
    "            \n",
    "        END LOOP;\n",
    "\n",
    "        ALTER TABLE dvds ADD CONSTRAINT dvds_pkey PRIMARY KEY (nodvd);\n",
    "        \n",
    "        ALTER TABLE locations ADD CONSTRAINT locations_nodvd_fkey FOREIGN KEY (nodvd)\n",
    "        REFERENCES public.dvds (nodvd) MATCH SIMPLE\n",
    "        ON UPDATE CASCADE\n",
    "        ON DELETE NO ACTION;\n",
    "    END;\n",
    "$$ LANGUAGE plpgsql;\n",
    "\n",
    "select * from corriger_nodvd();"
   ]
  },
  {
   "cell_type": "code",
   "execution_count": 10,
   "metadata": {},
   "outputs": [
    {
     "name": "stdout",
     "output_type": "stream",
     "text": [
      "10 row(s) returned.\n"
     ]
    },
    {
     "data": {
      "text/html": [
       "<table>\n",
       "<tr><th style=\"text-align: right;\">  nodvd</th><th style=\"text-align: right;\">  prixachat</th><th>titre                      </th></tr>\n",
       "<tr><td style=\"text-align: right;\">      1</td><td style=\"text-align: right;\">         13</td><td>Red Corner                 </td></tr>\n",
       "<tr><td style=\"text-align: right;\">      3</td><td style=\"text-align: right;\">         13</td><td>There Goes the Neighborhood</td></tr>\n",
       "<tr><td style=\"text-align: right;\">      4</td><td style=\"text-align: right;\">         20</td><td>Le dernier des Mohicans    </td></tr>\n",
       "<tr><td style=\"text-align: right;\">      5</td><td style=\"text-align: right;\">          9</td><td>The Man from Earth         </td></tr>\n",
       "<tr><td style=\"text-align: right;\">      6</td><td style=\"text-align: right;\">         15</td><td>Etre ou ne pas etre        </td></tr>\n",
       "<tr><td style=\"text-align: right;\">      7</td><td style=\"text-align: right;\">         17</td><td>L amour en equation        </td></tr>\n",
       "<tr><td style=\"text-align: right;\">      8</td><td style=\"text-align: right;\">         20</td><td>Flowers in the Attic       </td></tr>\n",
       "<tr><td style=\"text-align: right;\">      9</td><td style=\"text-align: right;\">         15</td><td>Chinatown                  </td></tr>\n",
       "<tr><td style=\"text-align: right;\">     10</td><td style=\"text-align: right;\">         18</td><td>Memento                    </td></tr>\n",
       "<tr><td style=\"text-align: right;\">     11</td><td style=\"text-align: right;\">         12</td><td>Warrior                    </td></tr>\n",
       "</table>"
      ],
      "text/latex": [
       "\\begin{tabular}{rrl}\n",
       "\\toprule\n",
       "   nodvd &   prixachat & titre                       \\\\\n",
       "\\midrule\n",
       "       1 &          13 & Red Corner                  \\\\\n",
       "       3 &          13 & There Goes the Neighborhood \\\\\n",
       "       4 &          20 & Le dernier des Mohicans     \\\\\n",
       "       5 &           9 & The Man from Earth          \\\\\n",
       "       6 &          15 & Etre ou ne pas etre         \\\\\n",
       "       7 &          17 & L amour en equation         \\\\\n",
       "       8 &          20 & Flowers in the Attic        \\\\\n",
       "       9 &          15 & Chinatown                   \\\\\n",
       "      10 &          18 & Memento                     \\\\\n",
       "      11 &          12 & Warrior                     \\\\\n",
       "\\bottomrule\n",
       "\\end{tabular}"
      ],
      "text/plain": [
       "  nodvd    prixachat  titre\n",
       "-------  -----------  ---------------------------\n",
       "      1           13  Red Corner\n",
       "      3           13  There Goes the Neighborhood\n",
       "      4           20  Le dernier des Mohicans\n",
       "      5            9  The Man from Earth\n",
       "      6           15  Etre ou ne pas etre\n",
       "      7           17  L amour en equation\n",
       "      8           20  Flowers in the Attic\n",
       "      9           15  Chinatown\n",
       "     10           18  Memento\n",
       "     11           12  Warrior"
      ]
     },
     "metadata": {},
     "output_type": "display_data"
    }
   ],
   "source": [
    "select * from dvds LIMIT 10;"
   ]
  },
  {
   "cell_type": "markdown",
   "metadata": {},
   "source": [
    "# Ecrire les triggers suivants :\n",
    "## Si on tente d’insérer ou de modifier un film en mettant une année inférieure à 1891 (pourquoi ?) une exception est levée.\n",
    "\n",
    "En Mars 1891, William K. L. Dickson a développé le premier kinétoscope en se basant sur les travaux de Louis Le Prince. Ici, on ne considère que les films tourné avec un kinétoscope."
   ]
  },
  {
   "cell_type": "code",
   "execution_count": 11,
   "metadata": {},
   "outputs": [],
   "source": [
    "CREATE OR REPLACE FUNCTION verifier_anneesortie_film()\n",
    "RETURNS TRIGGER AS $$\n",
    "    BEGIN\n",
    "        RAISE EXCEPTION 'Année de la sortie de \"%\" ne peut être avant 1891!, (input %)', new.titre, new.anneesortie; \n",
    "    END;\n",
    "$$ LANGUAGE plpgsql;\n",
    "\n",
    "DROP TRIGGER IF EXISTS trigger_films_anneesortie on films;\n",
    "CREATE TRIGGER trigger_films_anneesortie \n",
    "    BEFORE INSERT OR UPDATE OF anneesortie ON films\n",
    "    FOR EACH ROW\n",
    "    WHEN (NEW.anneesortie < 1891)\n",
    "        EXECUTE PROCEDURE verifier_anneesortie_film();\n",
    "    "
   ]
  },
  {
   "cell_type": "code",
   "execution_count": 12,
   "metadata": {},
   "outputs": [
    {
     "name": "stderr",
     "output_type": "stream",
     "text": [
      "Année de la sortie de \"This Race Horse\" ne peut être avant 1891!, (input 1878)\n",
      "CONTEXT:  PL/pgSQL function verifier_anneesortie_film() line 3 at RAISE\n"
     ]
    }
   ],
   "source": [
    "DELETE FROM films WHERE titre = 'This Race Horse';\n",
    "INSERT INTO films VALUES('This Race Horse', 0.25, 'Cursus Limited', 'E.Muybridge', 1878, 'Drama');"
   ]
  },
  {
   "cell_type": "code",
   "execution_count": 13,
   "metadata": {},
   "outputs": [
    {
     "name": "stderr",
     "output_type": "stream",
     "text": [
      "Année de la sortie de \"Red Corner\" ne peut être avant 1891!, (input 1890)\n",
      "CONTEXT:  PL/pgSQL function verifier_anneesortie_film() line 3 at RAISE\n"
     ]
    }
   ],
   "source": [
    "UPDATE films SET anneesortie = 1890 WHERE titre = 'Red Corner';\n",
    "SELECT * FROM films WHERE titre = 'Red Corner';"
   ]
  },
  {
   "cell_type": "markdown",
   "metadata": {},
   "source": [
    "## Si un dvd est inséré dans la table sans prix d’achat indiqué (par exemple « INSERT INTO dvds (NoDVD, Titre) VALUES (1001, '8 mm'); ») alors le prix d’achat est fixé au prix d’achat moyen des dvds correspondant au même film. Par contre si le prix est indiqué il ne faut rien faire.\n"
   ]
  },
  {
   "cell_type": "code",
   "execution_count": 14,
   "metadata": {},
   "outputs": [],
   "source": [
    "CREATE OR REPLACE FUNCTION verifier_prixachat_dvds()\n",
    "RETURNS TRIGGER AS $$\n",
    "    DECLARE\n",
    "        prixAvg float;\n",
    "    BEGIN\n",
    "        SELECT AVG(prixachat) FROM dvds INTO NEW.prixachat ;\n",
    "        RETURN NEW;\n",
    "    END;\n",
    "$$ LANGUAGE plpgsql;\n",
    "\n",
    "DROP TRIGGER IF EXISTS trigger_dvds_prixachat on dvds;\n",
    "CREATE TRIGGER trigger_dvds_prixachat \n",
    "    BEFORE INSERT ON dvds\n",
    "    FOR EACH ROW\n",
    "    WHEN ( NEW.prixachat IS NULL )\n",
    "        EXECUTE PROCEDURE verifier_prixachat_dvds();"
   ]
  },
  {
   "cell_type": "code",
   "execution_count": 15,
   "metadata": {},
   "outputs": [
    {
     "name": "stdout",
     "output_type": "stream",
     "text": [
      "2 row(s) returned.\n"
     ]
    },
    {
     "data": {
      "text/html": [
       "<table>\n",
       "<tr><th style=\"text-align: right;\">  nodvd</th><th style=\"text-align: right;\">  prixachat</th><th>titre  </th></tr>\n",
       "<tr><td style=\"text-align: right;\">   1003</td><td style=\"text-align: right;\">         14</td><td>8 mm   </td></tr>\n",
       "<tr><td style=\"text-align: right;\">   1002</td><td style=\"text-align: right;\">          7</td><td>8 mm   </td></tr>\n",
       "</table>"
      ],
      "text/latex": [
       "\\begin{tabular}{rrl}\n",
       "\\toprule\n",
       "   nodvd &   prixachat & titre   \\\\\n",
       "\\midrule\n",
       "    1003 &          14 & 8 mm    \\\\\n",
       "    1002 &           7 & 8 mm    \\\\\n",
       "\\bottomrule\n",
       "\\end{tabular}"
      ],
      "text/plain": [
       "  nodvd    prixachat  titre\n",
       "-------  -----------  -------\n",
       "   1003           14  8 mm\n",
       "   1002            7  8 mm"
      ]
     },
     "metadata": {},
     "output_type": "display_data"
    }
   ],
   "source": [
    "DELETE FROM dvds WHERE nodvd = 1003;\n",
    "DELETE FROM dvds WHERE nodvd = 1002;\n",
    "\n",
    "INSERT INTO dvds (nodvd, titre) VALUES(1003, '8 mm');\n",
    "INSERT INTO dvds VALUES(1002, 7, '8 mm');\n",
    "\n",
    "SELECT * FROM dvds WHERE nodvd = 1003 or nodvd = 1002;"
   ]
  },
  {
   "cell_type": "markdown",
   "metadata": {},
   "source": [
    "# Trouver au moins deux triggers pertinents supplémentaires sur cette base et implémentez-les."
   ]
  },
  {
   "cell_type": "markdown",
   "metadata": {},
   "source": [
    "## Il n'y a pas de clé étranger pour les clients pour la table locations"
   ]
  },
  {
   "cell_type": "code",
   "execution_count": 16,
   "metadata": {},
   "outputs": [],
   "source": [
    "CREATE OR REPLACE FUNCTION verifier_clients_locations()\n",
    "RETURNS TRIGGER AS $$\n",
    "    BEGIN\n",
    "        IF (NEW.noclient IN (SELECT noclient FROM clients)) THEN\n",
    "            RETURN NEW;\n",
    "        ELSE\n",
    "            RAISE EXCEPTION 'Vérifiez que le client % existe avant!', NEW.noclient;\n",
    "            --RETURN NULL;\n",
    "        END IF;\n",
    "    END;\n",
    "$$ LANGUAGE plpgsql;\n",
    "\n",
    "DROP TRIGGER IF EXISTS trigger_locations_clients on locations;\n",
    "CREATE TRIGGER trigger_locations_clients \n",
    "    BEFORE INSERT ON locations\n",
    "    FOR EACH ROW\n",
    "    EXECUTE PROCEDURE verifier_clients_locations();"
   ]
  },
  {
   "cell_type": "code",
   "execution_count": 17,
   "metadata": {},
   "outputs": [
    {
     "name": "stderr",
     "output_type": "stream",
     "text": [
      "Vérifiez que le client 666 existe avant!\n",
      "CONTEXT:  PL/pgSQL function verifier_clients_locations() line 6 at RAISE\n"
     ]
    }
   ],
   "source": [
    "INSERT INTO locations VALUES (1003, current_date, 666, 3);"
   ]
  },
  {
   "cell_type": "markdown",
   "metadata": {},
   "source": [
    "## Lors de l'insertion dans la table location, si la date n'est pas précisé, on met la date du jour"
   ]
  },
  {
   "cell_type": "code",
   "execution_count": 18,
   "metadata": {},
   "outputs": [],
   "source": [
    "CREATE OR REPLACE FUNCTION verifier_date_locations()\n",
    "RETURNS TRIGGER AS $$\n",
    "    BEGIN\n",
    "        SELECT current_date INTO NEW.datelocation;\n",
    "        RETURN NEW;\n",
    "    END;\n",
    "$$ LANGUAGE plpgsql;\n",
    "\n",
    "DROP TRIGGER IF EXISTS trigger_locations_date on locations;\n",
    "CREATE TRIGGER trigger_locations_date \n",
    "    BEFORE INSERT ON locations\n",
    "    FOR EACH ROW\n",
    "    WHEN(NEW.datelocation IS NULL)\n",
    "        EXECUTE PROCEDURE verifier_date_locations();"
   ]
  },
  {
   "cell_type": "code",
   "execution_count": 19,
   "metadata": {},
   "outputs": [
    {
     "name": "stdout",
     "output_type": "stream",
     "text": [
      "1 row(s) returned.\n"
     ]
    },
    {
     "data": {
      "text/html": [
       "<table>\n",
       "<tr><th style=\"text-align: right;\">  nodvd</th><th>datelocation  </th><th style=\"text-align: right;\">  noclient</th><th style=\"text-align: right;\">  dureelocation</th></tr>\n",
       "<tr><td style=\"text-align: right;\">   1003</td><td>2018-12-01    </td><td style=\"text-align: right;\">         2</td><td style=\"text-align: right;\">              3</td></tr>\n",
       "</table>"
      ],
      "text/latex": [
       "\\begin{tabular}{rlrr}\n",
       "\\toprule\n",
       "   nodvd & datelocation   &   noclient &   dureelocation \\\\\n",
       "\\midrule\n",
       "    1003 & 2018-12-01     &          2 &               3 \\\\\n",
       "\\bottomrule\n",
       "\\end{tabular}"
      ],
      "text/plain": [
       "  nodvd  datelocation      noclient    dureelocation\n",
       "-------  --------------  ----------  ---------------\n",
       "   1003  2018-12-01               2                3"
      ]
     },
     "metadata": {},
     "output_type": "display_data"
    }
   ],
   "source": [
    "INSERT INTO locations(nodvd, noclient, dureelocation) VALUES (1003, 2, 3);\n",
    "SELECT * FROM locations WHERE noclient = 2 and nodvd = 1003;"
   ]
  }
 ],
 "metadata": {
  "kernelspec": {
   "display_name": "PostgreSQL",
   "language": "sql",
   "name": "postgres"
  },
  "language_info": {
   "codemirror_mode": "sql",
   "file_extension": ".sql",
   "mimetype": "text/x-postgresql",
   "name": "PostgreSQL"
  }
 },
 "nbformat": 4,
 "nbformat_minor": 2
}
