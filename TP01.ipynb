{
 "cells": [
  {
   "cell_type": "markdown",
   "metadata": {},
   "source": [
    "Vous devez vous connecter sur la VM Bases de Données.\n",
    "\n",
    "Présentation du cas d’étude. Dans plusieurs TP nous allons utiliser la base Sakila qui permet de gérer une entreprise de location de films sur plusieurs sites. Cette base assez complexe est composée de trois blocs principaux :\n",
    "- La gestion des films : films, catégories, acteurs et langues\n",
    "- La gestion des magasins : magasins, employés, inventaires et locations\n",
    "- La gestion des clients : clients, paiements\n",
    "\n",
    "On n’utilisera pas l’intégralité de la base à chaque TP."
   ]
  },
  {
   "cell_type": "code",
   "execution_count": null,
   "metadata": {},
   "outputs": [],
   "source": [
    "set datestyle = 'european'\n",
    "\n",
    "-- PostGre SQL Kernel pour Jupyter\n",
    "-- pip3 install git+https://github.com/bgschiller/postgres_kernel.git\n",
    "-- connection: host='localhost' dbname='Sakila' user='postgres' password='postgres'"
   ]
  },
  {
   "cell_type": "markdown",
   "metadata": {},
   "source": [
    "# Exercices LDD\n",
    "### Exercice 1. \n",
    "Créez la base de données sous Postgresql. \n",
    "Pour utiliser postgreSQL vous disposez de l‘interface pgadmin. Le mot de passe en salle de TP est «pgAdmin».\n",
    "\n",
    "### Exercice 2. \n",
    "Ouvrez le fichier base-schema et ajoutez toutes les contraintes de clés primaires, uniques et étrangères à la main. Vous pouvez également tester ces contraintes en insérant des enregistrements incorrects. Pensez à indiquer les actions à effectuer en cas de modification ou de suppression (ON DELETE, ON UPDATE).\n",
    "Une fois que cela est fait, vous pouvez importer les données du fichier base-data.sql."
   ]
  },
  {
   "cell_type": "code",
   "execution_count": null,
   "metadata": {},
   "outputs": [],
   "source": [
    "-- file: base-constrain.sql\n",
    "set datestyle = 'european'\n",
    "/*\n",
    "ALTER TABLE country ADD CONSTRAINT PK_COUNTRY PRIMARY KEY(country_id);\n",
    "ALTER TABLE city ADD CONSTRAINT PK_CITY PRIMARY KEY(city_id);\n",
    "ALTER TABLE address ADD CONSTRAINT PK_ADDRESS PRIMARY KEY(address_id);\n",
    "ALTER TABLE store ADD CONSTRAINT PK_STORE PRIMARY KEY(store_id);\n",
    "ALTER TABLE customer ADD CONSTRAINT PK_CUSTOMER PRIMARY KEY(customer_id);\n",
    "ALTER TABLE payment ADD CONSTRAINT PK_PAYMENT PRIMARY KEY(payment_id);\n",
    "ALTER TABLE rental ADD CONSTRAINT PK_RENTAL PRIMARY KEY(rental_id);\n",
    "\n",
    "ALTER TABLE city ADD CONSTRAINT FK_CITY_COUNTRY FOREIGN KEY(country_id) REFERENCES country(country_id);\n",
    "\n",
    "ALTER TABLE address ADD CONSTRAINT FK_ADDRESS_CITY FOREIGN KEY(city_id) REFERENCES city(city_id);\n",
    "\n",
    "ALTER TABLE staff ADD CONSTRAINT PK_STAFF PRIMARY KEY(staff_id);\n",
    "\n",
    "ALTER TABLE store ADD CONSTRAINT FK_STORE_MANAGER FOREIGN KEY(manager_staff_id) REFERENCES staff(staff_id);\n",
    "ALTER TABLE store ADD CONSTRAINT FK_STORE_ADDRESS FOREIGN KEY(address_id) REFERENCES address(address_id);\n",
    "\n",
    "ALTER TABLE staff ADD CONSTRAINT FK_STAFF_ADDRESS FOREIGN KEY(address_id) REFERENCES address(address_id);\n",
    "ALTER TABLE staff ADD CONSTRAINT FK_STAFF_STORE FOREIGN KEY(store_id) REFERENCES store(store_id);\n",
    "\n",
    "ALTER TABLE customer ADD CONSTRAINT FK_CUSTOMER_STORE FOREIGN KEY(store_id) REFERENCES store(store_id);\n",
    "ALTER TABLE customer ADD CONSTRAINT FK_CUSTOMER_ADDRESS FOREIGN KEY(address_id) REFERENCES address(address_id);\n",
    "\n",
    "ALTER TABLE inventory ADD CONSTRAINT PK_INVENTORY PRIMARY KEY(inventory_id);\n",
    "ALTER TABLE inventory ADD CONSTRAINT FK_INVENTORY_STORE FOREIGN KEY(store_id) REFERENCES store(store_id);\n",
    "--ALTER TABLE inventory ADD CONSTRAINT FK_INVENTORY_RENTAL FOREIGN KEY(film_id) REFERENCES rental(rental_id);\n",
    "\n",
    "ALTER TABLE payment ADD CONSTRAINT FK_PAYMENT_CUSTOMER FOREIGN KEY(customer_id) REFERENCES customer(customer_id);\n",
    "ALTER TABLE payment ADD CONSTRAINT FK_PAYMENT_STAFF FOREIGN KEY(staff_id) REFERENCES staff(staff_id);\n",
    "ALTER TABLE payment ADD CONSTRAINT FK_PAYMENT_RENTAL FOREIGN KEY(rental_id) REFERENCES rental(rental_id);\n",
    "\n",
    "ALTER TABLE rental ADD CONSTRAINT FK_RENTAL_INVENTORY FOREIGN KEY(inventory_id) REFERENCES inventory(inventory_id);\n",
    "ALTER TABLE rental ADD CONSTRAINT FK_RENTAL_CUSTOMER FOREIGN KEY(customer_id) REFERENCES customer(customer_id);\n",
    "ALTER TABLE rental ADD CONSTRAINT FK_RENTAL_STAFF FOREIGN KEY(staff_id) REFERENCES staff(staff_id);\n",
    "*/"
   ]
  },
  {
   "cell_type": "markdown",
   "metadata": {},
   "source": [
    "# Utiliser les dates\n",
    "### Exercice 3. Tester les requêtes suivantes qui pourront peut-être vous servir à un moment dans le TP."
   ]
  },
  {
   "cell_type": "code",
   "execution_count": 3,
   "metadata": {},
   "outputs": [
    {
     "name": "stdout",
     "output_type": "stream",
     "text": [
      "1 row(s) returned."
     ]
    },
    {
     "data": {
      "text/html": [
       "<table>\n",
       "<tr><th>date_trunc         </th></tr>\n",
       "<tr><td>2001-02-16 20:00:00</td></tr>\n",
       "</table>"
      ],
      "text/latex": [
       "\\begin{tabular}{l}\n",
       "\\toprule\n",
       " date\\_trunc          \\\\\n",
       "\\midrule\n",
       " 2001-02-16 20:00:00 \\\\\n",
       "\\bottomrule\n",
       "\\end{tabular}"
      ]
     },
     "metadata": {},
     "output_type": "display_data"
    }
   ],
   "source": [
    "SELECT date '2001-10-01' - date '2001-09-28';\n",
    "SELECT timestamp '2001-09-28 01:00' + interval '18 hours';\n",
    "SELECT age(timestamp '2001-04-10', timestamp '1957-06-13');\n",
    "SELECT age(timestamp '1998-06-11');\n",
    "SELECT date_part('year', timestamp '2001-02-16 20:38:40');\n",
    "SELECT date_trunc('hour', timestamp '2001-02-16 20:38:40');"
   ]
  },
  {
   "cell_type": "markdown",
   "metadata": {},
   "source": [
    "# Requêtes SQL\n",
    "Ecrire des requêtes SQL pour répondre aux questions suivantes. Par défaut on ne demande jamais de\n",
    "trier les résultats ou de supprimer les doublons.\n",
    "\n",
    "### Exercice 4. Identifiant de tous les clients ayant un montant de paiement compris entre 1 et 2 euros."
   ]
  },
  {
   "cell_type": "code",
   "execution_count": 4,
   "metadata": {},
   "outputs": [
    {
     "name": "stdout",
     "output_type": "stream",
     "text": [
      "10 row(s) returned."
     ]
    },
    {
     "data": {
      "text/html": [
       "<table>\n",
       "<tr><th>first_name  </th><th>last_name  </th><th style=\"text-align: right;\">  amount</th></tr>\n",
       "<tr><td>TED         </td><td>BREAUX     </td><td style=\"text-align: right;\">    1.99</td></tr>\n",
       "<tr><td>GEORGIA     </td><td>JACOBS     </td><td style=\"text-align: right;\">    1.99</td></tr>\n",
       "<tr><td>CAROL       </td><td>GARCIA     </td><td style=\"text-align: right;\">    1.99</td></tr>\n",
       "<tr><td>NINA        </td><td>SOTO       </td><td style=\"text-align: right;\">    1.99</td></tr>\n",
       "<tr><td>PEGGY       </td><td>MYERS      </td><td style=\"text-align: right;\">    1.99</td></tr>\n",
       "<tr><td>NATHANIEL   </td><td>ADAM       </td><td style=\"text-align: right;\">    1.99</td></tr>\n",
       "<tr><td>NICHOLAS    </td><td>BARFIELD   </td><td style=\"text-align: right;\">    1.99</td></tr>\n",
       "<tr><td>PETER       </td><td>MENARD     </td><td style=\"text-align: right;\">    1.99</td></tr>\n",
       "<tr><td>VIOLA       </td><td>HANSON     </td><td style=\"text-align: right;\">    1.99</td></tr>\n",
       "<tr><td>DORIS       </td><td>REED       </td><td style=\"text-align: right;\">    1.99</td></tr>\n",
       "</table>"
      ],
      "text/latex": [
       "\\begin{tabular}{llr}\n",
       "\\toprule\n",
       " first\\_name   & last\\_name   &   amount \\\\\n",
       "\\midrule\n",
       " TED          & BREAUX      &     1.99 \\\\\n",
       " GEORGIA      & JACOBS      &     1.99 \\\\\n",
       " CAROL        & GARCIA      &     1.99 \\\\\n",
       " NINA         & SOTO        &     1.99 \\\\\n",
       " PEGGY        & MYERS       &     1.99 \\\\\n",
       " NATHANIEL    & ADAM        &     1.99 \\\\\n",
       " NICHOLAS     & BARFIELD    &     1.99 \\\\\n",
       " PETER        & MENARD      &     1.99 \\\\\n",
       " VIOLA        & HANSON      &     1.99 \\\\\n",
       " DORIS        & REED        &     1.99 \\\\\n",
       "\\bottomrule\n",
       "\\end{tabular}"
      ]
     },
     "metadata": {},
     "output_type": "display_data"
    }
   ],
   "source": [
    "SELECT DISTINCT c.first_name, c.last_name, p.amount \n",
    "FROM customer c, payment p \n",
    "WHERE c.customer_id = p.customer_id and p.amount between 1 and 2\n",
    "LIMIT 10"
   ]
  },
  {
   "cell_type": "markdown",
   "metadata": {},
   "source": [
    "### Exercice 5. Locations (tous les attributs) qui ont été retournées moins de 24h après leur emprunt"
   ]
  },
  {
   "cell_type": "code",
   "execution_count": 5,
   "metadata": {},
   "outputs": [
    {
     "name": "stdout",
     "output_type": "stream",
     "text": [
      "10 row(s) returned."
     ]
    },
    {
     "data": {
      "text/html": [
       "<table>\n",
       "<tr><th style=\"text-align: right;\">  rental_id</th><th>rental_date        </th><th style=\"text-align: right;\">  inventory_id</th><th style=\"text-align: right;\">  customer_id</th><th>return_date        </th><th style=\"text-align: right;\">  staff_id</th></tr>\n",
       "<tr><td style=\"text-align: right;\">       7188</td><td>2005-07-27 08:32:08</td><td style=\"text-align: right;\">          2199</td><td style=\"text-align: right;\">          259</td><td>2005-07-28 08:02:08</td><td style=\"text-align: right;\">         1</td></tr>\n",
       "<tr><td style=\"text-align: right;\">       7933</td><td>2005-07-28 12:27:27</td><td style=\"text-align: right;\">          3175</td><td style=\"text-align: right;\">          297</td><td>2005-07-29 10:34:27</td><td style=\"text-align: right;\">         2</td></tr>\n",
       "<tr><td style=\"text-align: right;\">      11923</td><td>2005-08-17 16:21:47</td><td style=\"text-align: right;\">          1907</td><td style=\"text-align: right;\">           72</td><td>2005-08-18 14:26:47</td><td style=\"text-align: right;\">         2</td></tr>\n",
       "<tr><td style=\"text-align: right;\">       9004</td><td>2005-07-30 05:04:27</td><td style=\"text-align: right;\">          3775</td><td style=\"text-align: right;\">          178</td><td>2005-07-31 00:49:27</td><td style=\"text-align: right;\">         1</td></tr>\n",
       "<tr><td style=\"text-align: right;\">      12843</td><td>2005-08-19 01:58:54</td><td style=\"text-align: right;\">          3279</td><td style=\"text-align: right;\">          128</td><td>2005-08-20 00:20:54</td><td style=\"text-align: right;\">         2</td></tr>\n",
       "<tr><td style=\"text-align: right;\">      15667</td><td>2005-08-23 09:02:03</td><td style=\"text-align: right;\">          1302</td><td style=\"text-align: right;\">           73</td><td>2005-08-24 05:47:03</td><td style=\"text-align: right;\">         1</td></tr>\n",
       "<tr><td style=\"text-align: right;\">      11270</td><td>2005-08-02 14:18:07</td><td style=\"text-align: right;\">          1882</td><td style=\"text-align: right;\">          418</td><td>2005-08-03 08:20:07</td><td style=\"text-align: right;\">         1</td></tr>\n",
       "<tr><td style=\"text-align: right;\">       5360</td><td>2005-07-09 18:14:03</td><td style=\"text-align: right;\">           679</td><td style=\"text-align: right;\">          562</td><td>2005-07-10 15:17:03</td><td style=\"text-align: right;\">         2</td></tr>\n",
       "<tr><td style=\"text-align: right;\">       3746</td><td>2005-07-06 12:10:51</td><td style=\"text-align: right;\">          3387</td><td style=\"text-align: right;\">          424</td><td>2005-07-07 11:36:51</td><td style=\"text-align: right;\">         2</td></tr>\n",
       "<tr><td style=\"text-align: right;\">      11197</td><td>2005-08-02 11:45:07</td><td style=\"text-align: right;\">          3041</td><td style=\"text-align: right;\">          122</td><td>2005-08-03 09:07:07</td><td style=\"text-align: right;\">         1</td></tr>\n",
       "</table>"
      ],
      "text/latex": [
       "\\begin{tabular}{rlrrlr}\n",
       "\\toprule\n",
       "   rental\\_id & rental\\_date         &   inventory\\_id &   customer\\_id & return\\_date         &   staff\\_id \\\\\n",
       "\\midrule\n",
       "        7188 & 2005-07-27 08:32:08 &           2199 &           259 & 2005-07-28 08:02:08 &          1 \\\\\n",
       "        7933 & 2005-07-28 12:27:27 &           3175 &           297 & 2005-07-29 10:34:27 &          2 \\\\\n",
       "       11923 & 2005-08-17 16:21:47 &           1907 &            72 & 2005-08-18 14:26:47 &          2 \\\\\n",
       "        9004 & 2005-07-30 05:04:27 &           3775 &           178 & 2005-07-31 00:49:27 &          1 \\\\\n",
       "       12843 & 2005-08-19 01:58:54 &           3279 &           128 & 2005-08-20 00:20:54 &          2 \\\\\n",
       "       15667 & 2005-08-23 09:02:03 &           1302 &            73 & 2005-08-24 05:47:03 &          1 \\\\\n",
       "       11270 & 2005-08-02 14:18:07 &           1882 &           418 & 2005-08-03 08:20:07 &          1 \\\\\n",
       "        5360 & 2005-07-09 18:14:03 &            679 &           562 & 2005-07-10 15:17:03 &          2 \\\\\n",
       "        3746 & 2005-07-06 12:10:51 &           3387 &           424 & 2005-07-07 11:36:51 &          2 \\\\\n",
       "       11197 & 2005-08-02 11:45:07 &           3041 &           122 & 2005-08-03 09:07:07 &          1 \\\\\n",
       "\\bottomrule\n",
       "\\end{tabular}"
      ]
     },
     "metadata": {},
     "output_type": "display_data"
    }
   ],
   "source": [
    "SELECT DISTINCT * \n",
    "FROM rental r \n",
    "WHERE r.return_date < r.rental_date + interval '24 hours'\n",
    "LIMIT 10"
   ]
  },
  {
   "cell_type": "markdown",
   "metadata": {},
   "source": [
    "### Exercice 6. Locations (tous les attributs) qui ont été faites entre 23h et minuit (exclus)"
   ]
  },
  {
   "cell_type": "code",
   "execution_count": 6,
   "metadata": {},
   "outputs": [
    {
     "name": "stdout",
     "output_type": "stream",
     "text": [
      "10 row(s) returned."
     ]
    },
    {
     "data": {
      "text/html": [
       "<table>\n",
       "<tr><th style=\"text-align: right;\">  rental_id</th><th>rental_date        </th><th style=\"text-align: right;\">  inventory_id</th><th style=\"text-align: right;\">  customer_id</th><th>return_date        </th><th style=\"text-align: right;\">  staff_id</th></tr>\n",
       "<tr><td style=\"text-align: right;\">          3</td><td>2005-05-24 23:03:39</td><td style=\"text-align: right;\">          1711</td><td style=\"text-align: right;\">          408</td><td>2005-06-01 22:12:39</td><td style=\"text-align: right;\">         1</td></tr>\n",
       "<tr><td style=\"text-align: right;\">          4</td><td>2005-05-24 23:04:41</td><td style=\"text-align: right;\">          2452</td><td style=\"text-align: right;\">          333</td><td>2005-06-03 01:43:41</td><td style=\"text-align: right;\">         2</td></tr>\n",
       "<tr><td style=\"text-align: right;\">          5</td><td>2005-05-24 23:05:21</td><td style=\"text-align: right;\">          2079</td><td style=\"text-align: right;\">          222</td><td>2005-06-02 04:33:21</td><td style=\"text-align: right;\">         1</td></tr>\n",
       "<tr><td style=\"text-align: right;\">          6</td><td>2005-05-24 23:08:07</td><td style=\"text-align: right;\">          2792</td><td style=\"text-align: right;\">          549</td><td>2005-05-27 01:32:07</td><td style=\"text-align: right;\">         1</td></tr>\n",
       "<tr><td style=\"text-align: right;\">          7</td><td>2005-05-24 23:11:53</td><td style=\"text-align: right;\">          3995</td><td style=\"text-align: right;\">          269</td><td>2005-05-29 20:34:53</td><td style=\"text-align: right;\">         2</td></tr>\n",
       "<tr><td style=\"text-align: right;\">          8</td><td>2005-05-24 23:31:46</td><td style=\"text-align: right;\">          2346</td><td style=\"text-align: right;\">          239</td><td>2005-05-27 23:33:46</td><td style=\"text-align: right;\">         2</td></tr>\n",
       "<tr><td style=\"text-align: right;\">        139</td><td>2005-05-25 23:00:21</td><td style=\"text-align: right;\">           327</td><td style=\"text-align: right;\">          257</td><td>2005-05-29 17:12:21</td><td style=\"text-align: right;\">         1</td></tr>\n",
       "<tr><td style=\"text-align: right;\">        140</td><td>2005-05-25 23:34:22</td><td style=\"text-align: right;\">           655</td><td style=\"text-align: right;\">          354</td><td>2005-05-27 01:10:22</td><td style=\"text-align: right;\">         1</td></tr>\n",
       "<tr><td style=\"text-align: right;\">        141</td><td>2005-05-25 23:34:53</td><td style=\"text-align: right;\">           811</td><td style=\"text-align: right;\">           89</td><td>2005-06-02 01:57:53</td><td style=\"text-align: right;\">         1</td></tr>\n",
       "<tr><td style=\"text-align: right;\">        142</td><td>2005-05-25 23:43:47</td><td style=\"text-align: right;\">          4407</td><td style=\"text-align: right;\">          472</td><td>2005-05-29 00:46:47</td><td style=\"text-align: right;\">         2</td></tr>\n",
       "</table>"
      ],
      "text/latex": [
       "\\begin{tabular}{rlrrlr}\n",
       "\\toprule\n",
       "   rental\\_id & rental\\_date         &   inventory\\_id &   customer\\_id & return\\_date         &   staff\\_id \\\\\n",
       "\\midrule\n",
       "           3 & 2005-05-24 23:03:39 &           1711 &           408 & 2005-06-01 22:12:39 &          1 \\\\\n",
       "           4 & 2005-05-24 23:04:41 &           2452 &           333 & 2005-06-03 01:43:41 &          2 \\\\\n",
       "           5 & 2005-05-24 23:05:21 &           2079 &           222 & 2005-06-02 04:33:21 &          1 \\\\\n",
       "           6 & 2005-05-24 23:08:07 &           2792 &           549 & 2005-05-27 01:32:07 &          1 \\\\\n",
       "           7 & 2005-05-24 23:11:53 &           3995 &           269 & 2005-05-29 20:34:53 &          2 \\\\\n",
       "           8 & 2005-05-24 23:31:46 &           2346 &           239 & 2005-05-27 23:33:46 &          2 \\\\\n",
       "         139 & 2005-05-25 23:00:21 &            327 &           257 & 2005-05-29 17:12:21 &          1 \\\\\n",
       "         140 & 2005-05-25 23:34:22 &            655 &           354 & 2005-05-27 01:10:22 &          1 \\\\\n",
       "         141 & 2005-05-25 23:34:53 &            811 &            89 & 2005-06-02 01:57:53 &          1 \\\\\n",
       "         142 & 2005-05-25 23:43:47 &           4407 &           472 & 2005-05-29 00:46:47 &          2 \\\\\n",
       "\\bottomrule\n",
       "\\end{tabular}"
      ]
     },
     "metadata": {},
     "output_type": "display_data"
    }
   ],
   "source": [
    "SELECT * \n",
    "FROM rental r \n",
    "WHERE date_part('hour', r.rental_date) between 23 AND 24\n",
    "LIMIT 10"
   ]
  },
  {
   "cell_type": "markdown",
   "metadata": {},
   "source": [
    "### Exercice 7. Prénom et nom des clients dont le code postal commence par 47"
   ]
  },
  {
   "cell_type": "code",
   "execution_count": 7,
   "metadata": {},
   "outputs": [
    {
     "name": "stdout",
     "output_type": "stream",
     "text": [
      "21 row(s) returned."
     ]
    },
    {
     "data": {
      "text/html": [
       "<table>\n",
       "<tr><th>first_name  </th><th>last_name   </th></tr>\n",
       "<tr><td>PAMELA      </td><td>BAKER       </td></tr>\n",
       "<tr><td>BERNICE     </td><td>WILLIS      </td></tr>\n",
       "<tr><td>MARION      </td><td>SNYDER      </td></tr>\n",
       "<tr><td>STACY       </td><td>CUNNINGHAM  </td></tr>\n",
       "<tr><td>HOLLY       </td><td>FOX         </td></tr>\n",
       "<tr><td>AGNES       </td><td>BISHOP      </td></tr>\n",
       "<tr><td>COLLEEN     </td><td>BURTON      </td></tr>\n",
       "<tr><td>TERRY       </td><td>CARLSON     </td></tr>\n",
       "<tr><td>DAVID       </td><td>ROYAL       </td></tr>\n",
       "<tr><td>KENNETH     </td><td>GOODEN      </td></tr>\n",
       "<tr><td>NATHAN      </td><td>RUNYON      </td></tr>\n",
       "<tr><td>KYLE        </td><td>SPURLOCK    </td></tr>\n",
       "<tr><td>TROY        </td><td>QUIGLEY     </td></tr>\n",
       "<tr><td>LLOYD       </td><td>DOWD        </td></tr>\n",
       "<tr><td>DEREK       </td><td>BLAKELY     </td></tr>\n",
       "<tr><td>MILTON      </td><td>HOWLAND     </td></tr>\n",
       "<tr><td>ELMER       </td><td>NOE         </td></tr>\n",
       "<tr><td>MITCHELL    </td><td>WESTMORELAND</td></tr>\n",
       "<tr><td>FELIX       </td><td>GAFFNEY     </td></tr>\n",
       "<tr><td>MORRIS      </td><td>MCCARTER    </td></tr>\n",
       "<tr><td>TRACY       </td><td>HERRMANN    </td></tr>\n",
       "</table>"
      ],
      "text/latex": [
       "\\begin{tabular}{ll}\n",
       "\\toprule\n",
       " first\\_name   & last\\_name    \\\\\n",
       "\\midrule\n",
       " PAMELA       & BAKER        \\\\\n",
       " BERNICE      & WILLIS       \\\\\n",
       " MARION       & SNYDER       \\\\\n",
       " STACY        & CUNNINGHAM   \\\\\n",
       " HOLLY        & FOX          \\\\\n",
       " AGNES        & BISHOP       \\\\\n",
       " COLLEEN      & BURTON       \\\\\n",
       " TERRY        & CARLSON      \\\\\n",
       " DAVID        & ROYAL        \\\\\n",
       " KENNETH      & GOODEN       \\\\\n",
       " NATHAN       & RUNYON       \\\\\n",
       " KYLE         & SPURLOCK     \\\\\n",
       " TROY         & QUIGLEY      \\\\\n",
       " LLOYD        & DOWD         \\\\\n",
       " DEREK        & BLAKELY      \\\\\n",
       " MILTON       & HOWLAND      \\\\\n",
       " ELMER        & NOE          \\\\\n",
       " MITCHELL     & WESTMORELAND \\\\\n",
       " FELIX        & GAFFNEY      \\\\\n",
       " MORRIS       & MCCARTER     \\\\\n",
       " TRACY        & HERRMANN     \\\\\n",
       "\\bottomrule\n",
       "\\end{tabular}"
      ]
     },
     "metadata": {},
     "output_type": "display_data"
    }
   ],
   "source": [
    "SELECT c.first_name, c.last_name \n",
    "FROM customer c, address a \n",
    "WHERE c.address_id = a.address_id and a.postal_code ~* '47.*'\n"
   ]
  },
  {
   "cell_type": "markdown",
   "metadata": {},
   "source": [
    "### Exercice 8. Tous les identifiants distincts d’adresse en France"
   ]
  },
  {
   "cell_type": "code",
   "execution_count": 8,
   "metadata": {},
   "outputs": [
    {
     "name": "stdout",
     "output_type": "stream",
     "text": [
      "4 row(s) returned."
     ]
    },
    {
     "data": {
      "text/html": [
       "<table>\n",
       "<tr><th style=\"text-align: right;\">  address_id</th></tr>\n",
       "<tr><td style=\"text-align: right;\">          39</td></tr>\n",
       "<tr><td style=\"text-align: right;\">         108</td></tr>\n",
       "<tr><td style=\"text-align: right;\">         166</td></tr>\n",
       "<tr><td style=\"text-align: right;\">         407</td></tr>\n",
       "</table>"
      ],
      "text/latex": [
       "\\begin{tabular}{r}\n",
       "\\toprule\n",
       "   address\\_id \\\\\n",
       "\\midrule\n",
       "           39 \\\\\n",
       "          108 \\\\\n",
       "          166 \\\\\n",
       "          407 \\\\\n",
       "\\bottomrule\n",
       "\\end{tabular}"
      ]
     },
     "metadata": {},
     "output_type": "display_data"
    }
   ],
   "source": [
    "SELECT DISTINCT a.address_id \n",
    "FROM address a, city cty, country c \n",
    "WHERE a.city_id = cty.city_id and c.country_id = cty.country_id and upper(c.country) = upper('france')"
   ]
  },
  {
   "cell_type": "markdown",
   "metadata": {},
   "source": [
    "### Exercice 9. Identifiant des films de l’inventaire qui n’ont jamais été loués"
   ]
  },
  {
   "cell_type": "code",
   "execution_count": 9,
   "metadata": {},
   "outputs": [
    {
     "name": "stdout",
     "output_type": "stream",
     "text": [
      "1 row(s) returned."
     ]
    },
    {
     "data": {
      "text/html": [
       "<table>\n",
       "<tr><th style=\"text-align: right;\">  inventory_id</th><th style=\"text-align: right;\">  film_id</th></tr>\n",
       "<tr><td style=\"text-align: right;\">             5</td><td style=\"text-align: right;\">        1</td></tr>\n",
       "</table>"
      ],
      "text/latex": [
       "\\begin{tabular}{rr}\n",
       "\\toprule\n",
       "   inventory\\_id &   film\\_id \\\\\n",
       "\\midrule\n",
       "              5 &         1 \\\\\n",
       "\\bottomrule\n",
       "\\end{tabular}"
      ]
     },
     "metadata": {},
     "output_type": "display_data"
    }
   ],
   "source": [
    "SELECT i.inventory_id, i.film_id \n",
    "FROM inventory i \n",
    "WHERE i.inventory_id NOT IN (SELECT r.inventory_id FROM rental r );"
   ]
  },
  {
   "cell_type": "code",
   "execution_count": 10,
   "metadata": {},
   "outputs": [
    {
     "name": "stdout",
     "output_type": "stream",
     "text": [
      "0 row(s) returned."
     ]
    }
   ],
   "source": [
    "SELECT DISTINCT r.inventory_id \n",
    "FROM rental r \n",
    "WHERE r.inventory_id = 5;"
   ]
  },
  {
   "cell_type": "markdown",
   "metadata": {},
   "source": [
    "### Exercice 10. Identifiant des films et nombre de fois qu’ils ont été loués"
   ]
  },
  {
   "cell_type": "code",
   "execution_count": 11,
   "metadata": {},
   "outputs": [
    {
     "name": "stdout",
     "output_type": "stream",
     "text": [
      "10 row(s) returned."
     ]
    },
    {
     "data": {
      "text/html": [
       "<table>\n",
       "<tr><th style=\"text-align: right;\">  film_id</th><th style=\"text-align: right;\">  count</th></tr>\n",
       "<tr><td style=\"text-align: right;\">      652</td><td style=\"text-align: right;\">     14</td></tr>\n",
       "<tr><td style=\"text-align: right;\">      273</td><td style=\"text-align: right;\">     25</td></tr>\n",
       "<tr><td style=\"text-align: right;\">       51</td><td style=\"text-align: right;\">     23</td></tr>\n",
       "<tr><td style=\"text-align: right;\">      951</td><td style=\"text-align: right;\">     28</td></tr>\n",
       "<tr><td style=\"text-align: right;\">       70</td><td style=\"text-align: right;\">     17</td></tr>\n",
       "<tr><td style=\"text-align: right;\">      839</td><td style=\"text-align: right;\">      7</td></tr>\n",
       "<tr><td style=\"text-align: right;\">      350</td><td style=\"text-align: right;\">     20</td></tr>\n",
       "<tr><td style=\"text-align: right;\">      758</td><td style=\"text-align: right;\">      8</td></tr>\n",
       "<tr><td style=\"text-align: right;\">      539</td><td style=\"text-align: right;\">     10</td></tr>\n",
       "<tr><td style=\"text-align: right;\">      278</td><td style=\"text-align: right;\">      7</td></tr>\n",
       "</table>"
      ],
      "text/latex": [
       "\\begin{tabular}{rr}\n",
       "\\toprule\n",
       "   film\\_id &   count \\\\\n",
       "\\midrule\n",
       "       652 &      14 \\\\\n",
       "       273 &      25 \\\\\n",
       "        51 &      23 \\\\\n",
       "       951 &      28 \\\\\n",
       "        70 &      17 \\\\\n",
       "       839 &       7 \\\\\n",
       "       350 &      20 \\\\\n",
       "       758 &       8 \\\\\n",
       "       539 &      10 \\\\\n",
       "       278 &       7 \\\\\n",
       "\\bottomrule\n",
       "\\end{tabular}"
      ]
     },
     "metadata": {},
     "output_type": "display_data"
    }
   ],
   "source": [
    "SELECT i.film_id, COUNT(r.rental_id) \n",
    "FROM inventory i, rental r \n",
    "WHERE i.inventory_id = r.inventory_id GROUP BY(i.film_id)\n",
    "LIMIT 10"
   ]
  },
  {
   "cell_type": "markdown",
   "metadata": {},
   "source": [
    "### Exercice 11. Prénom, nom et nombre de locations par client"
   ]
  },
  {
   "cell_type": "code",
   "execution_count": 12,
   "metadata": {},
   "outputs": [
    {
     "name": "stdout",
     "output_type": "stream",
     "text": [
      "10 row(s) returned."
     ]
    },
    {
     "data": {
      "text/html": [
       "<table>\n",
       "<tr><th>first_name  </th><th>last_name  </th><th style=\"text-align: right;\">  count</th></tr>\n",
       "<tr><td>AARON       </td><td>SELBY      </td><td style=\"text-align: right;\">     24</td></tr>\n",
       "<tr><td>ADAM        </td><td>GOOCH      </td><td style=\"text-align: right;\">     22</td></tr>\n",
       "<tr><td>ADRIAN      </td><td>CLARY      </td><td style=\"text-align: right;\">     19</td></tr>\n",
       "<tr><td>AGNES       </td><td>BISHOP     </td><td style=\"text-align: right;\">     23</td></tr>\n",
       "<tr><td>ALAN        </td><td>KAHN       </td><td style=\"text-align: right;\">     26</td></tr>\n",
       "<tr><td>ALBERT      </td><td>CROUSE     </td><td style=\"text-align: right;\">     23</td></tr>\n",
       "<tr><td>ALBERTO     </td><td>HENNING    </td><td style=\"text-align: right;\">     21</td></tr>\n",
       "<tr><td>ALEX        </td><td>GRESHAM    </td><td style=\"text-align: right;\">     33</td></tr>\n",
       "<tr><td>ALEXANDER   </td><td>FENNELL    </td><td style=\"text-align: right;\">     36</td></tr>\n",
       "<tr><td>ALFRED      </td><td>CASILLAS   </td><td style=\"text-align: right;\">     26</td></tr>\n",
       "</table>"
      ],
      "text/latex": [
       "\\begin{tabular}{llr}\n",
       "\\toprule\n",
       " first\\_name   & last\\_name   &   count \\\\\n",
       "\\midrule\n",
       " AARON        & SELBY       &      24 \\\\\n",
       " ADAM         & GOOCH       &      22 \\\\\n",
       " ADRIAN       & CLARY       &      19 \\\\\n",
       " AGNES        & BISHOP      &      23 \\\\\n",
       " ALAN         & KAHN        &      26 \\\\\n",
       " ALBERT       & CROUSE      &      23 \\\\\n",
       " ALBERTO      & HENNING     &      21 \\\\\n",
       " ALEX         & GRESHAM     &      33 \\\\\n",
       " ALEXANDER    & FENNELL     &      36 \\\\\n",
       " ALFRED       & CASILLAS    &      26 \\\\\n",
       "\\bottomrule\n",
       "\\end{tabular}"
      ]
     },
     "metadata": {},
     "output_type": "display_data"
    }
   ],
   "source": [
    "SELECT c.first_name, c.last_name, COUNT(DISTINCT r.rental_id) \n",
    "FROM customer c, rental r\n",
    "WHERE c.customer_id = r.customer_id\n",
    "GROUP BY c.first_name, c.last_name\n",
    "LIMIT 10"
   ]
  },
  {
   "cell_type": "markdown",
   "metadata": {},
   "source": [
    "### Exercice 12. Nombre de films distincts loués par une personne habitant en Allemagne"
   ]
  },
  {
   "cell_type": "code",
   "execution_count": 13,
   "metadata": {},
   "outputs": [
    {
     "name": "stdout",
     "output_type": "stream",
     "text": [
      "1 row(s) returned."
     ]
    },
    {
     "data": {
      "text/html": [
       "<table>\n",
       "<tr><th style=\"text-align: right;\">  count</th></tr>\n",
       "<tr><td style=\"text-align: right;\">    958</td></tr>\n",
       "</table>"
      ],
      "text/latex": [
       "\\begin{tabular}{r}\n",
       "\\toprule\n",
       "   count \\\\\n",
       "\\midrule\n",
       "     958 \\\\\n",
       "\\bottomrule\n",
       "\\end{tabular}"
      ]
     },
     "metadata": {},
     "output_type": "display_data"
    }
   ],
   "source": [
    "SELECT COUNT(DISTINCT i.film_id)\n",
    "FROM inventory i, customer c, rental r, address a, country h, city cty\n",
    "WHERE i.inventory_id = r.inventory_id and c.customer_id = r.customer_id and a.city_id = cty.city_id \n",
    "        and cty.country_id = h.country_id and upper(h.country) = upper('Germany')"
   ]
  },
  {
   "cell_type": "markdown",
   "metadata": {},
   "source": [
    "### Exercice 13. Identifiant de magasin et nombre de locations"
   ]
  },
  {
   "cell_type": "code",
   "execution_count": 14,
   "metadata": {},
   "outputs": [
    {
     "name": "stdout",
     "output_type": "stream",
     "text": [
      "2 row(s) returned."
     ]
    },
    {
     "data": {
      "text/html": [
       "<table>\n",
       "<tr><th style=\"text-align: right;\">  store_id</th><th style=\"text-align: right;\">  count</th></tr>\n",
       "<tr><td style=\"text-align: right;\">         1</td><td style=\"text-align: right;\">   7923</td></tr>\n",
       "<tr><td style=\"text-align: right;\">         2</td><td style=\"text-align: right;\">   8121</td></tr>\n",
       "</table>"
      ],
      "text/latex": [
       "\\begin{tabular}{rr}\n",
       "\\toprule\n",
       "   store\\_id &   count \\\\\n",
       "\\midrule\n",
       "          1 &    7923 \\\\\n",
       "          2 &    8121 \\\\\n",
       "\\bottomrule\n",
       "\\end{tabular}"
      ]
     },
     "metadata": {},
     "output_type": "display_data"
    }
   ],
   "source": [
    "SELECT s.store_id, COUNT(DISTINCT r.rental_id)\n",
    "FROM store s, inventory i, rental r\n",
    "WHERE s.store_id = i.store_id AND r.inventory_id = i.inventory_id\n",
    "GROUP BY s.store_id"
   ]
  },
  {
   "cell_type": "markdown",
   "metadata": {},
   "source": [
    "### Exercice 14. Prénom, nom, montant moyen et montant total dépensé par client"
   ]
  },
  {
   "cell_type": "code",
   "execution_count": 15,
   "metadata": {},
   "outputs": [
    {
     "name": "stdout",
     "output_type": "stream",
     "text": [
      "10 row(s) returned."
     ]
    },
    {
     "data": {
      "text/html": [
       "<table>\n",
       "<tr><th>first_name  </th><th>last_name  </th><th style=\"text-align: right;\">    avg</th><th style=\"text-align: right;\">   sum</th></tr>\n",
       "<tr><td>JONATHAN    </td><td>SCARBOROUGH</td><td style=\"text-align: right;\">4.04556</td><td style=\"text-align: right;\"> 72.82</td></tr>\n",
       "<tr><td>TRACEY      </td><td>BARRETT    </td><td style=\"text-align: right;\">4.39741</td><td style=\"text-align: right;\">118.73</td></tr>\n",
       "<tr><td>RUSSELL     </td><td>BRINSON    </td><td style=\"text-align: right;\">3.79556</td><td style=\"text-align: right;\">136.64</td></tr>\n",
       "<tr><td>FRANKLIN    </td><td>TROUTMAN   </td><td style=\"text-align: right;\">3.39909</td><td style=\"text-align: right;\"> 74.78</td></tr>\n",
       "<tr><td>CASSANDRA   </td><td>WALTERS    </td><td style=\"text-align: right;\">4.32333</td><td style=\"text-align: right;\">129.7 </td></tr>\n",
       "<tr><td>CECIL       </td><td>VINES      </td><td style=\"text-align: right;\">4.45154</td><td style=\"text-align: right;\">115.74</td></tr>\n",
       "<tr><td>JORDAN      </td><td>ARCHULETA  </td><td style=\"text-align: right;\">4.42333</td><td style=\"text-align: right;\">132.7 </td></tr>\n",
       "<tr><td>THOMAS      </td><td>GRIGSBY    </td><td style=\"text-align: right;\">4.23   </td><td style=\"text-align: right;\">105.75</td></tr>\n",
       "<tr><td>RUBY        </td><td>WASHINGTON </td><td style=\"text-align: right;\">3.95429</td><td style=\"text-align: right;\">110.72</td></tr>\n",
       "<tr><td>STANLEY     </td><td>SCROGGINS  </td><td style=\"text-align: right;\">4.65667</td><td style=\"text-align: right;\">139.7 </td></tr>\n",
       "</table>"
      ],
      "text/latex": [
       "\\begin{tabular}{llrr}\n",
       "\\toprule\n",
       " first\\_name   & last\\_name   &     avg &    sum \\\\\n",
       "\\midrule\n",
       " JONATHAN     & SCARBOROUGH & 4.04556 &  72.82 \\\\\n",
       " TRACEY       & BARRETT     & 4.39741 & 118.73 \\\\\n",
       " RUSSELL      & BRINSON     & 3.79556 & 136.64 \\\\\n",
       " FRANKLIN     & TROUTMAN    & 3.39909 &  74.78 \\\\\n",
       " CASSANDRA    & WALTERS     & 4.32333 & 129.7  \\\\\n",
       " CECIL        & VINES       & 4.45154 & 115.74 \\\\\n",
       " JORDAN       & ARCHULETA   & 4.42333 & 132.7  \\\\\n",
       " THOMAS       & GRIGSBY     & 4.23    & 105.75 \\\\\n",
       " RUBY         & WASHINGTON  & 3.95429 & 110.72 \\\\\n",
       " STANLEY      & SCROGGINS   & 4.65667 & 139.7  \\\\\n",
       "\\bottomrule\n",
       "\\end{tabular}"
      ]
     },
     "metadata": {},
     "output_type": "display_data"
    }
   ],
   "source": [
    "SELECT c.first_name, c.last_name, AVG(p.amount), SUM(p.amount)\n",
    "FROM customer c, payment p\n",
    "WHERE c.customer_id = p.customer_id\n",
    "GROUP BY c.first_name, c.last_name\n",
    "LIMIT 10"
   ]
  },
  {
   "cell_type": "markdown",
   "metadata": {},
   "source": [
    "### Exercice 15. Numéro de client, jour et nombre de location pour ce jour et ce client"
   ]
  },
  {
   "cell_type": "code",
   "execution_count": 16,
   "metadata": {},
   "outputs": [
    {
     "name": "stdout",
     "output_type": "stream",
     "text": [
      "10 row(s) returned."
     ]
    },
    {
     "data": {
      "text/html": [
       "<table>\n",
       "<tr><th style=\"text-align: right;\">  customer_id</th><th>rdate     </th><th style=\"text-align: right;\">  nblocationclient</th><th style=\"text-align: right;\">  nblocationjour</th></tr>\n",
       "<tr><td style=\"text-align: right;\">            1</td><td>2005-05-25</td><td style=\"text-align: right;\">                 1</td><td style=\"text-align: right;\">             137</td></tr>\n",
       "<tr><td style=\"text-align: right;\">            1</td><td>2005-05-28</td><td style=\"text-align: right;\">                 1</td><td style=\"text-align: right;\">             196</td></tr>\n",
       "<tr><td style=\"text-align: right;\">            1</td><td>2005-06-15</td><td style=\"text-align: right;\">                 3</td><td style=\"text-align: right;\">             348</td></tr>\n",
       "<tr><td style=\"text-align: right;\">            1</td><td>2005-06-16</td><td style=\"text-align: right;\">                 1</td><td style=\"text-align: right;\">             324</td></tr>\n",
       "<tr><td style=\"text-align: right;\">            1</td><td>2005-06-18</td><td style=\"text-align: right;\">                 2</td><td style=\"text-align: right;\">             344</td></tr>\n",
       "<tr><td style=\"text-align: right;\">            1</td><td>2005-06-21</td><td style=\"text-align: right;\">                 1</td><td style=\"text-align: right;\">             275</td></tr>\n",
       "<tr><td style=\"text-align: right;\">            1</td><td>2005-07-08</td><td style=\"text-align: right;\">                 2</td><td style=\"text-align: right;\">             512</td></tr>\n",
       "<tr><td style=\"text-align: right;\">            1</td><td>2005-07-09</td><td style=\"text-align: right;\">                 2</td><td style=\"text-align: right;\">             513</td></tr>\n",
       "<tr><td style=\"text-align: right;\">            1</td><td>2005-07-11</td><td style=\"text-align: right;\">                 1</td><td style=\"text-align: right;\">             461</td></tr>\n",
       "<tr><td style=\"text-align: right;\">            1</td><td>2005-07-27</td><td style=\"text-align: right;\">                 1</td><td style=\"text-align: right;\">             649</td></tr>\n",
       "</table>"
      ],
      "text/latex": [
       "\\begin{tabular}{rlrr}\n",
       "\\toprule\n",
       "   customer\\_id & rdate      &   nblocationclient &   nblocationjour \\\\\n",
       "\\midrule\n",
       "             1 & 2005-05-25 &                  1 &              137 \\\\\n",
       "             1 & 2005-05-28 &                  1 &              196 \\\\\n",
       "             1 & 2005-06-15 &                  3 &              348 \\\\\n",
       "             1 & 2005-06-16 &                  1 &              324 \\\\\n",
       "             1 & 2005-06-18 &                  2 &              344 \\\\\n",
       "             1 & 2005-06-21 &                  1 &              275 \\\\\n",
       "             1 & 2005-07-08 &                  2 &              512 \\\\\n",
       "             1 & 2005-07-09 &                  2 &              513 \\\\\n",
       "             1 & 2005-07-11 &                  1 &              461 \\\\\n",
       "             1 & 2005-07-27 &                  1 &              649 \\\\\n",
       "\\bottomrule\n",
       "\\end{tabular}"
      ]
     },
     "metadata": {},
     "output_type": "display_data"
    }
   ],
   "source": [
    "SELECT r1.customer_id, r1.rdate, r1.nbLocationClient, r2.nbLocationJour FROM\n",
    "(\n",
    "    SELECT c.customer_id, r.rental_date::timestamp::date as rdate, COUNT(DISTINCT r.rental_id) as nbLocationClient\n",
    "    FROM customer c, rental r \n",
    "    WHERE c.customer_id = r.customer_id \n",
    "    GROUP BY c.customer_id, rdate\n",
    ") as r1\n",
    "JOIN\n",
    "(\n",
    "    SELECT r.rental_date::timestamp::date as rdate, COUNT(DISTINCT r.rental_id) as nbLocationJour\n",
    "    FROM rental r\n",
    "    GROUP BY rdate\n",
    ") as r2\n",
    "ON r1.rdate = r2.rdate\n",
    "LIMIT 10"
   ]
  },
  {
   "cell_type": "markdown",
   "metadata": {},
   "source": [
    "### Exercice 16. Prénom et nom des clients ayant effectué strictement moins de 15 locations"
   ]
  },
  {
   "cell_type": "code",
   "execution_count": 17,
   "metadata": {},
   "outputs": [
    {
     "name": "stdout",
     "output_type": "stream",
     "text": [
      "4 row(s) returned."
     ]
    },
    {
     "data": {
      "text/html": [
       "<table>\n",
       "<tr><th>first_name  </th><th>last_name  </th><th style=\"text-align: right;\">  nblocations</th></tr>\n",
       "<tr><td>BRIAN       </td><td>WYMAN      </td><td style=\"text-align: right;\">           12</td></tr>\n",
       "<tr><td>KATHERINE   </td><td>RIVERA     </td><td style=\"text-align: right;\">           14</td></tr>\n",
       "<tr><td>LEONA       </td><td>OBRIEN     </td><td style=\"text-align: right;\">           14</td></tr>\n",
       "<tr><td>TIFFANY     </td><td>JORDAN     </td><td style=\"text-align: right;\">           14</td></tr>\n",
       "</table>"
      ],
      "text/latex": [
       "\\begin{tabular}{llr}\n",
       "\\toprule\n",
       " first\\_name   & last\\_name   &   nblocations \\\\\n",
       "\\midrule\n",
       " BRIAN        & WYMAN       &            12 \\\\\n",
       " KATHERINE    & RIVERA      &            14 \\\\\n",
       " LEONA        & OBRIEN      &            14 \\\\\n",
       " TIFFANY      & JORDAN      &            14 \\\\\n",
       "\\bottomrule\n",
       "\\end{tabular}"
      ]
     },
     "metadata": {},
     "output_type": "display_data"
    }
   ],
   "source": [
    "SELECT c.first_name, c.last_name, COUNT(DISTINCT r.rental_id) as nbLocations\n",
    "FROM customer c, rental r\n",
    "WHERE c.customer_id = r.customer_id\n",
    "GROUP BY c.first_name, c.last_name \n",
    "HAVING COUNT(DISTINCT r.rental_id) < 15"
   ]
  },
  {
   "cell_type": "markdown",
   "metadata": {},
   "source": [
    "### Exercice 17. Nombre de clients qui ont effectué une location le 30 juillet 2005 ou habitent au code postal 35200 (ne pas utiliser OR)"
   ]
  },
  {
   "cell_type": "code",
   "execution_count": 18,
   "metadata": {},
   "outputs": [
    {
     "name": "stdout",
     "output_type": "stream",
     "text": [
      "10 row(s) returned."
     ]
    },
    {
     "data": {
      "text/html": [
       "<table>\n",
       "<tr><th style=\"text-align: right;\">  customer_id</th></tr>\n",
       "<tr><td style=\"text-align: right;\">          176</td></tr>\n",
       "<tr><td style=\"text-align: right;\">          576</td></tr>\n",
       "<tr><td style=\"text-align: right;\">          292</td></tr>\n",
       "<tr><td style=\"text-align: right;\">          161</td></tr>\n",
       "<tr><td style=\"text-align: right;\">          528</td></tr>\n",
       "<tr><td style=\"text-align: right;\">          524</td></tr>\n",
       "<tr><td style=\"text-align: right;\">          360</td></tr>\n",
       "<tr><td style=\"text-align: right;\">           99</td></tr>\n",
       "<tr><td style=\"text-align: right;\">          384</td></tr>\n",
       "<tr><td style=\"text-align: right;\">          188</td></tr>\n",
       "</table>"
      ],
      "text/latex": [
       "\\begin{tabular}{r}\n",
       "\\toprule\n",
       "   customer\\_id \\\\\n",
       "\\midrule\n",
       "           176 \\\\\n",
       "           576 \\\\\n",
       "           292 \\\\\n",
       "           161 \\\\\n",
       "           528 \\\\\n",
       "           524 \\\\\n",
       "           360 \\\\\n",
       "            99 \\\\\n",
       "           384 \\\\\n",
       "           188 \\\\\n",
       "\\bottomrule\n",
       "\\end{tabular}"
      ]
     },
     "metadata": {},
     "output_type": "display_data"
    }
   ],
   "source": [
    "(\n",
    "    SELECT c.customer_id \n",
    "    FROM customer c, rental r\n",
    "    WHERE r.rental_date::timestamp::date = '2005-07-30'::date\n",
    ") \n",
    "UNION DISTINCT\n",
    "(\n",
    "    SELECT c.customer_id\n",
    "    FROM customer c, address a\n",
    "    WHERE c.address_id = a.address_id and a.postal_code = '35200'\n",
    ")\n",
    "LIMIT 10"
   ]
  },
  {
   "cell_type": "markdown",
   "metadata": {},
   "source": [
    "### Exercice 18. Identifiant des clients ayant effectué une location le 11 d’un mois quelconque mais pas le 10 d’un mois quelconque"
   ]
  },
  {
   "cell_type": "code",
   "execution_count": 19,
   "metadata": {},
   "outputs": [
    {
     "name": "stdout",
     "output_type": "stream",
     "text": [
      "0 row(s) returned."
     ]
    }
   ],
   "source": [
    "SELECT r1.customer_id, r2.rdate FROM\n",
    "(\n",
    "    SELECT c.customer_id, date_part('month', r.rental_date) as rdate\n",
    "    FROM customer c, rental r\n",
    "    WHERE c.customer_id = r.customer_id and \n",
    "        date_part('month', r.rental_date) = 11\n",
    ") r1\n",
    "JOIN\n",
    "(\n",
    "    SELECT c.customer_id, date_part('month', r.rental_date) as rdate\n",
    "    FROM customer c, rental r\n",
    "    WHERE c.customer_id = r.customer_id and \n",
    "        date_part('month', r.rental_date) != 10\n",
    ") r2\n",
    "ON r1.customer_id = r2.customer_id"
   ]
  },
  {
   "cell_type": "markdown",
   "metadata": {},
   "source": [
    "### Exercice 19. Nombre maximum de location en une journée"
   ]
  },
  {
   "cell_type": "code",
   "execution_count": 20,
   "metadata": {},
   "outputs": [
    {
     "name": "stdout",
     "output_type": "stream",
     "text": [
      "1 row(s) returned."
     ]
    },
    {
     "data": {
      "text/html": [
       "<table>\n",
       "<tr><th style=\"text-align: right;\">  max</th></tr>\n",
       "<tr><td style=\"text-align: right;\">  679</td></tr>\n",
       "</table>"
      ],
      "text/latex": [
       "\\begin{tabular}{r}\n",
       "\\toprule\n",
       "   max \\\\\n",
       "\\midrule\n",
       "   679 \\\\\n",
       "\\bottomrule\n",
       "\\end{tabular}"
      ]
     },
     "metadata": {},
     "output_type": "display_data"
    }
   ],
   "source": [
    "SELECT MAX(r1.nbLoc) FROM\n",
    "(\n",
    "    SELECT r.rental_date::timestamp::date as rdate, COUNT(DISTINCT r.rental_id) as nbLoc\n",
    "    FROM rental r\n",
    "    GROUP BY rdate   \n",
    ") r1"
   ]
  },
  {
   "cell_type": "markdown",
   "metadata": {},
   "source": [
    "### Exercice 20. Numéro du client ayant effectué le plus de locations en une journée. Proposer au moins 3 solutions !\n",
    "\n",
    "#### Solution 1:"
   ]
  },
  {
   "cell_type": "code",
   "execution_count": 21,
   "metadata": {},
   "outputs": [
    {
     "name": "stdout",
     "output_type": "stream",
     "text": [
      "1 row(s) returned."
     ]
    },
    {
     "data": {
      "text/html": [
       "<table>\n",
       "<tr><th style=\"text-align: right;\">  customer_id</th><th style=\"text-align: right;\">  record</th></tr>\n",
       "<tr><td style=\"text-align: right;\">          563</td><td style=\"text-align: right;\">       7</td></tr>\n",
       "</table>"
      ],
      "text/latex": [
       "\\begin{tabular}{rr}\n",
       "\\toprule\n",
       "   customer\\_id &   record \\\\\n",
       "\\midrule\n",
       "           563 &        7 \\\\\n",
       "\\bottomrule\n",
       "\\end{tabular}"
      ]
     },
     "metadata": {},
     "output_type": "display_data"
    }
   ],
   "source": [
    "SELECT r1.customer_id, MAX(r1.nbLoc) as record FROM\n",
    "(\n",
    "    SELECT c.customer_id, r.rental_date::timestamp::date as rdate, COUNT(DISTINCT r.rental_id) as nbLoc\n",
    "    FROM rental r, customer c\n",
    "    WHERE r.customer_id = c.customer_id\n",
    "    GROUP BY c.customer_id, rdate   \n",
    ") r1\n",
    "GROUP BY r1.customer_id\n",
    "ORDER BY record desc\n",
    "LIMIT 1"
   ]
  },
  {
   "cell_type": "markdown",
   "metadata": {},
   "source": [
    "#### Solution 2:"
   ]
  },
  {
   "cell_type": "code",
   "execution_count": 22,
   "metadata": {},
   "outputs": [
    {
     "name": "stdout",
     "output_type": "stream",
     "text": [
      "1 row(s) returned."
     ]
    },
    {
     "data": {
      "text/html": [
       "<table>\n",
       "<tr><th style=\"text-align: right;\">  customer_id</th><th style=\"text-align: right;\">  nbloc</th></tr>\n",
       "<tr><td style=\"text-align: right;\">          563</td><td style=\"text-align: right;\">      7</td></tr>\n",
       "</table>"
      ],
      "text/latex": [
       "\\begin{tabular}{rr}\n",
       "\\toprule\n",
       "   customer\\_id &   nbloc \\\\\n",
       "\\midrule\n",
       "           563 &       7 \\\\\n",
       "\\bottomrule\n",
       "\\end{tabular}"
      ]
     },
     "metadata": {},
     "output_type": "display_data"
    }
   ],
   "source": [
    "WITH r1 as (\n",
    "    SELECT c.customer_id, r.rental_date::timestamp::date as rdate, COUNT(DISTINCT r.rental_id) as nbLoc\n",
    "    FROM rental r, customer c\n",
    "    WHERE r.customer_id = c.customer_id\n",
    "    GROUP BY c.customer_id, rdate   \n",
    ")\n",
    "SELECT r1.customer_id, r1.nbLoc \n",
    "FROM r1\n",
    "WHERE r1.nbLoc = (SELECT MAX(r1.nbLoc) FROM r1)"
   ]
  },
  {
   "cell_type": "markdown",
   "metadata": {},
   "source": [
    "#### Solution 3:"
   ]
  },
  {
   "cell_type": "code",
   "execution_count": 23,
   "metadata": {},
   "outputs": [
    {
     "name": "stdout",
     "output_type": "stream",
     "text": [
      "1 row(s) returned."
     ]
    },
    {
     "data": {
      "text/html": [
       "<table>\n",
       "<tr><th style=\"text-align: right;\">  customer_id</th><th style=\"text-align: right;\">  nbloc</th></tr>\n",
       "<tr><td style=\"text-align: right;\">          563</td><td style=\"text-align: right;\">      7</td></tr>\n",
       "</table>"
      ],
      "text/latex": [
       "\\begin{tabular}{rr}\n",
       "\\toprule\n",
       "   customer\\_id &   nbloc \\\\\n",
       "\\midrule\n",
       "           563 &       7 \\\\\n",
       "\\bottomrule\n",
       "\\end{tabular}"
      ]
     },
     "metadata": {},
     "output_type": "display_data"
    }
   ],
   "source": [
    "WITH r1 as (\n",
    "    SELECT c.customer_id, r.rental_date::timestamp::date as rdate, COUNT(DISTINCT r.rental_id) as nbLoc\n",
    "    FROM rental r, customer c\n",
    "    WHERE r.customer_id = c.customer_id\n",
    "    GROUP BY c.customer_id, rdate   \n",
    ")\n",
    "SELECT r1.customer_id, r1.nbLoc \n",
    "FROM r1\n",
    "WHERE r1.nbLoc >= ALL(SELECT r1.nbLoc FROM r1 )"
   ]
  },
  {
   "cell_type": "code",
   "execution_count": null,
   "metadata": {},
   "outputs": [],
   "source": []
  }
 ],
 "metadata": {
  "kernelspec": {
   "display_name": "PostgreSQL",
   "language": "sql",
   "name": "postgres"
  },
  "language_info": {
   "codemirror_mode": "sql",
   "file_extension": ".sql",
   "mimetype": "text/x-postgresql",
   "name": "PostgreSQL"
  }
 },
 "nbformat": 4,
 "nbformat_minor": 2
}
